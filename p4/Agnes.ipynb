{
 "cells": [
  {
   "cell_type": "code",
   "execution_count": 1,
   "id": "intense-capture",
   "metadata": {},
   "outputs": [],
   "source": [
    "import numpy as np\n",
    "import re\n",
    "import pandas as pd\n",
    "import matplotlib.pyplot as plt\n",
    "\n",
    "from sklearn.preprocessing import LabelEncoder"
   ]
  },
  {
   "cell_type": "code",
   "execution_count": 31,
   "id": "constant-metropolitan",
   "metadata": {},
   "outputs": [
    {
     "name": "stdout",
     "output_type": "stream",
     "text": [
      "X_train, X_test (1273862, 30) (318466, 30)\n"
     ]
    }
   ],
   "source": [
    "from keras.preprocessing.sequence import pad_sequences\n",
    "\n",
    "X_train = pad_sequences(tokenizer.texts_to_sequences(train_data.tweet), maxlen = 30)\n",
    "X_test = pad_sequences(tokenizer.texts_to_sequences(test_data.tweet), maxlen = 30)\n",
    "\n",
    "print(\"X_train, X_test\", X_train.shape, X_test.shape)\n",
    "\n",
    "labels = train_data.label.unique().tolist()"
   ]
  },
  {
   "cell_type": "code",
   "execution_count": 32,
   "id": "focal-surveillance",
   "metadata": {},
   "outputs": [
    {
     "name": "stdout",
     "output_type": "stream",
     "text": [
      "y_train shape: (1273862, 1)\n",
      "y_test shape: (318466, 1)\n"
     ]
    }
   ],
   "source": [
    "encoder = LabelEncoder()\n",
    "encoder.fit(train_data.label.to_list())\n",
    "\n",
    "y_train = encoder.transform(train_data.label.to_list())\n",
    "y_test = encoder.transform(test_data.label.to_list())\n",
    "\n",
    "y_train = y_train.reshape(-1,1)\n",
    "y_test = y_test.reshape(-1,1)\n",
    "\n",
    "print(\"y_train shape:\", y_train.shape)\n",
    "print(\"y_test shape:\", y_test.shape)"
   ]
  },
  {
   "cell_type": "markdown",
   "id": "ultimate-temperature",
   "metadata": {},
   "source": [
    "# Training"
   ]
  },
  {
   "cell_type": "markdown",
   "id": "reflected-encoding",
   "metadata": {},
   "source": [
    "### Agnes Model #1\n"
   ]
  },
  {
   "cell_type": "code",
   "execution_count": 42,
   "id": "enabling-dependence",
   "metadata": {},
   "outputs": [],
   "source": [
    "from tensorflow.keras.layers import Conv1D, Bidirectional, LSTM, Dense, Input, Dropout\n",
    "from tensorflow.keras.layers import SpatialDropout1D\n",
    "from tensorflow.keras.callbacks import ModelCheckpoint\n",
    "from tensorflow.keras.optimizers import Adam\n",
    "from tensorflow.keras.callbacks import ReduceLROnPlateau"
   ]
  },
  {
   "cell_type": "code",
   "execution_count": 43,
   "id": "labeled-discipline",
   "metadata": {},
   "outputs": [],
   "source": [
    "from keras.models import Model\n",
    "from keras.layers import Input\n",
    "from keras.layers import Dense\n",
    "from keras.layers import Flatten\n",
    "from keras.layers import Dropout\n",
    "from keras.layers import Embedding\n",
    "from keras.layers.convolutional import Conv1D\n",
    "from keras.layers.convolutional import MaxPooling1D\n",
    "from keras.layers.merge import concatenate\n",
    "from keras.callbacks import EarlyStopping, ModelCheckpoint, ReduceLROnPlateau"
   ]
  },
  {
   "cell_type": "code",
   "execution_count": 44,
   "id": "grateful-carry",
   "metadata": {},
   "outputs": [
    {
     "name": "stdout",
     "output_type": "stream",
     "text": [
      "Num GPUs Available:  0\n"
     ]
    }
   ],
   "source": [
    "sequence_input = Input(shape=(30,), dtype='int32')\n",
    "embedding_sequences = embedding_layer(sequence_input)\n",
    "x = SpatialDropout1D(0.2)(embedding_sequences)\n",
    "x = Conv1D(64, 5, activation='relu')(x)\n",
    "x = Dense(512, activation='relu')(x)\n",
    "x = Dropout(0.5)(x)\n",
    "x = Dense(512, activation='relu')(x)\n",
    "x = MaxPooling1D(pool_size=2)(x)\n",
    "x = Flatten()(x)\n",
    "outputs = Dense(1, activation='sigmoid')(x)\n",
    "model = tf.keras.Model(sequence_input, outputs)\n",
    "\n",
    "\n",
    "model.compile(optimizer=Adam(learning_rate=1e-3), loss='binary_crossentropy', metrics=['accuracy'])\n",
    "ReduceLROnPlateau = ReduceLROnPlateau(factor=0.1, min_lr = 0.01, monitor = 'val_loss', verbose = 1)\n",
    "\n",
    "print(\"Num GPUs Available: \", len(tf.config.list_physical_devices('GPU')))"
   ]
  },
  {
   "cell_type": "code",
   "execution_count": 45,
   "id": "controlled-north",
   "metadata": {},
   "outputs": [
    {
     "name": "stdout",
     "output_type": "stream",
     "text": [
      "Epoch 1/10\n",
      "1245/1245 [==============================] - 897s 721ms/step - loss: 0.5181 - accuracy: 0.7408 - val_loss: 0.5016 - val_accuracy: 0.7541\n",
      "Epoch 2/10\n",
      "1245/1245 [==============================] - 775s 623ms/step - loss: 0.4897 - accuracy: 0.7625 - val_loss: 0.4815 - val_accuracy: 0.7702\n",
      "Epoch 3/10\n",
      "1245/1245 [==============================] - 865s 695ms/step - loss: 0.4793 - accuracy: 0.7694 - val_loss: 0.4739 - val_accuracy: 0.7746\n",
      "Epoch 4/10\n",
      "1245/1245 [==============================] - 865s 694ms/step - loss: 0.4737 - accuracy: 0.7731 - val_loss: 0.4704 - val_accuracy: 0.7752\n",
      "Epoch 5/10\n",
      "1245/1245 [==============================] - 842s 676ms/step - loss: 0.4696 - accuracy: 0.7752 - val_loss: 0.4733 - val_accuracy: 0.7752\n",
      "Epoch 6/10\n",
      "1245/1245 [==============================] - 753s 605ms/step - loss: 0.4664 - accuracy: 0.7773 - val_loss: 0.4693 - val_accuracy: 0.7780\n",
      "Epoch 7/10\n",
      "1245/1245 [==============================] - 750s 603ms/step - loss: 0.4643 - accuracy: 0.7789 - val_loss: 0.4683 - val_accuracy: 0.7766\n",
      "Epoch 8/10\n",
      "1245/1245 [==============================] - 747s 600ms/step - loss: 0.4629 - accuracy: 0.7800 - val_loss: 0.4732 - val_accuracy: 0.7707\n",
      "Epoch 9/10\n",
      "1245/1245 [==============================] - 746s 599ms/step - loss: 0.4607 - accuracy: 0.7809 - val_loss: 0.4653 - val_accuracy: 0.7778\n",
      "Epoch 10/10\n",
      "1245/1245 [==============================] - 744s 598ms/step - loss: 0.4591 - accuracy: 0.7819 - val_loss: 0.4648 - val_accuracy: 0.7801\n"
     ]
    }
   ],
   "source": [
    "history = model.fit(X_train, y_train, batch_size=1024, epochs=10, validation_data=(X_test, y_test), callbacks=[ReduceLROnPlateau])"
   ]
  },
  {
   "cell_type": "code",
   "execution_count": 46,
   "id": "dental-savage",
   "metadata": {},
   "outputs": [],
   "source": [
    "model.save('models/Agnes_model.h5')"
   ]
  },
  {
   "cell_type": "code",
   "execution_count": 46,
   "id": "third-internet",
   "metadata": {},
   "outputs": [],
   "source": [
    "import numpy as np\n",
    "import re\n",
    "import pandas as pd\n",
    "import matplotlib.pyplot as plt\n",
    "\n",
    "from sklearn.preprocessing import LabelEncoder\n",
    "\n",
    "from tensorflow.keras.layers import Conv1D, Bidirectional, LSTM, Dense, Input, Dropout\n",
    "from tensorflow.keras.layers import SpatialDropout1D\n",
    "from tensorflow.keras.callbacks import ModelCheckpoint\n",
    "from tensorflow.keras.optimizers import Adam\n",
    "from tensorflow.keras.callbacks import ReduceLROnPlateau\n",
    "import tensorflow as tf"
   ]
  },
  {
   "cell_type": "code",
   "execution_count": 46,
   "id": "vulnerable-wealth",
   "metadata": {},
   "outputs": [
    {
     "name": "stdout",
     "output_type": "stream",
     "text": [
      "Model: \"functional_1\"\n",
      "_________________________________________________________________\n",
      "Layer (type)                 Output Shape              Param #   \n",
      "=================================================================\n",
      "input_1 (InputLayer)         [(None, 30)]              0         \n",
      "_________________________________________________________________\n",
      "embedding (Embedding)        (None, 30, 300)           87137400  \n",
      "_________________________________________________________________\n",
      "spatial_dropout1d (SpatialDr (None, 30, 300)           0         \n",
      "_________________________________________________________________\n",
      "conv1d (Conv1D)              (None, 26, 64)            96064     \n",
      "_________________________________________________________________\n",
      "dense (Dense)                (None, 26, 512)           33280     \n",
      "_________________________________________________________________\n",
      "dropout (Dropout)            (None, 26, 512)           0         \n",
      "_________________________________________________________________\n",
      "dense_1 (Dense)              (None, 26, 512)           262656    \n",
      "_________________________________________________________________\n",
      "max_pooling1d (MaxPooling1D) (None, 13, 512)           0         \n",
      "_________________________________________________________________\n",
      "flatten (Flatten)            (None, 6656)              0         \n",
      "_________________________________________________________________\n",
      "dense_2 (Dense)              (None, 1)                 6657      \n",
      "=================================================================\n",
      "Total params: 87,536,057\n",
      "Trainable params: 398,657\n",
      "Non-trainable params: 87,137,400\n",
      "_________________________________________________________________\n"
     ]
    }
   ],
   "source": [
    "load_model = tf.keras.models.load_model('../models/Agnes_model.h5')\n",
    "\n",
    "# Check its architecture\n",
    "load_model.summary()"
   ]
  },
  {
   "cell_type": "code",
   "execution_count": 51,
   "id": "historic-perfume",
   "metadata": {},
   "outputs": [
    {
     "name": "stdout",
     "output_type": "stream",
     "text": [
      "\n",
      "\n"
     ]
    },
    {
     "data": {
      "text/plain": [
       "Text(0.5, 0, 'epoch')"
      ]
     },
     "execution_count": 51,
     "metadata": {},
     "output_type": "execute_result"
    },
    {
     "data": {
      "image/png": "[encoded data removed]",
      "text/plain": [
       "<Figure size 432x288 with 2 Axes>"
      ]
     },
     "metadata": {
      "needs_background": "light"
     },
     "output_type": "display_data"
    }
   ],
   "source": [
    "plt1, (plt2, plt3) = plt.subplots(2,1)\n",
    "plt2.plot(history.history['accuracy'], c= 'blue')\n",
    "plt2.plot(history.history['val_accuracy'], c='red')\n",
    "plt2.set_title('model accuracy')\n",
    "plt2.set_ylabel('accuracy')\n",
    "plt2.set_xlabel('epoch')\n",
    "plt2.legend(['Agnes_train', 'Agnes_val'], loc='upper left')\n",
    "\n",
    "plt3.plot(history.history['loss'], c='blue')\n",
    "plt3.plot(history.history['val_loss'], c='red')\n",
    "plt3.set_title('model loss')\n",
    "plt3.set_ylabel('loss')\n",
    "plt3.set_xlabel('epoch')"
   ]
  },
  {
   "cell_type": "code",
   "execution_count": 52,
   "id": "normal-campbell",
   "metadata": {},
   "outputs": [
    {
     "name": "stdout",
     "output_type": "stream",
     "text": [
      "32/32 [==============================] - 44s 1s/step\n"
     ]
    }
   ],
   "source": [
    "def decode_labels(score):\n",
    "    return \"Positive\" if score > 0.5 else \"Negative\"\n",
    "\n",
    "\n",
    "scores = model.predict(X_test, verbose=1, batch_size=10000)\n",
    "y_pred = [decode_labels(score) for score in scores]"
   ]
  },
  {
   "cell_type": "markdown",
   "id": "demographic-brush",
   "metadata": {},
   "source": [
    "#### Confusion Matrix"
   ]
  },
  {
   "cell_type": "code",
   "execution_count": 53,
   "id": "herbal-billy",
   "metadata": {},
   "outputs": [
    {
     "name": "stdout",
     "output_type": "stream",
     "text": [
      "[[124059  35434]\n",
      " [ 34587 124386]]\n"
     ]
    },
    {
     "data": {
      "text/plain": [
       "<matplotlib.axes._subplots.AxesSubplot at 0x29462c39190>"
      ]
     },
     "execution_count": 53,
     "metadata": {},
     "output_type": "execute_result"
    },
    {
     "data": {
      "image/png": "[encoded data removed]",
      "text/plain": [
       "<Figure size 432x288 with 2 Axes>"
      ]
     },
     "metadata": {
      "needs_background": "light"
     },
     "output_type": "display_data"
    }
   ],
   "source": [
    "from sklearn.linear_model import LogisticRegression\n",
    "from sklearn.metrics import confusion_matrix, classification_report, accuracy_score\n",
    "import seaborn as sns\n",
    "\n",
    "#Get the confusion matrix\n",
    "cf_matrix = confusion_matrix(test_data.label.to_list(), y_pred)\n",
    "print(cf_matrix)\n",
    "\n",
    "\n",
    "#sns.heatmap(cf_matrix, annot=True)\n",
    "#sns.heatmap(cf_matrix/np.sum(cf_matrix), annot=True, fmt='.2%', cmap='Blues')\n",
    "labels = ['True Neg','False Pos','False Neg','True Pos']\n",
    "labels = np.asarray(labels).reshape(2,2)\n",
    "#sns.heatmap(cf_matrix, annot=labels, fmt='', cmap='Blues')\n",
    "group_names = ['True Neg','False Pos','False Neg','True Pos']\n",
    "group_counts = [\"{0:0.0f}\".format(value) for value in\n",
    "                cf_matrix.flatten()]\n",
    "group_percentages = [\"{0:.2%}\".format(value) for value in\n",
    "                     cf_matrix.flatten()/np.sum(cf_matrix)]\n",
    "labels = [f\"{v1}\\n{v2}\\n{v3}\" for v1, v2, v3 in\n",
    "          zip(group_names,group_counts,group_percentages)]\n",
    "labels = np.asarray(labels).reshape(2,2)\n",
    "sns.heatmap(cf_matrix, annot=labels, fmt='', cmap='Blues')"
   ]
  },
  {
   "cell_type": "code",
   "execution_count": 54,
   "id": "technical-ladder",
   "metadata": {},
   "outputs": [
    {
     "name": "stdout",
     "output_type": "stream",
     "text": [
      "              precision    recall  f1-score   support\n",
      "\n",
      "    Negative       0.78      0.78      0.78    159493\n",
      "    Positive       0.78      0.78      0.78    158973\n",
      "\n",
      "    accuracy                           0.78    318466\n",
      "   macro avg       0.78      0.78      0.78    318466\n",
      "weighted avg       0.78      0.78      0.78    318466\n",
      "\n"
     ]
    }
   ],
   "source": [
    "print(classification_report(list(test_data.label), y_pred))"
   ]
  },
  {
   "cell_type": "markdown",
   "id": "broken-indie",
   "metadata": {},
   "source": [
    "### Agnes Model #2\n"
   ]
  },
  {
   "cell_type": "code",
   "execution_count": 47,
   "id": "fuzzy-present",
   "metadata": {},
   "outputs": [
    {
     "name": "stdout",
     "output_type": "stream",
     "text": [
      "Num GPUs Available:  0\n"
     ]
    }
   ],
   "source": [
    "sequence_input = Input(shape=(30,), dtype='int32')\n",
    "embedding_sequences = embedding_layer(sequence_input)\n",
    "x = SpatialDropout1D(0.2)(embedding_sequences)\n",
    "x = Conv1D(32, 5, activation='relu')(x)\n",
    "x = Dense(256, activation='relu')(x)\n",
    "x = Dropout(0.5)(x)\n",
    "x = Dense(256, activation='relu')(x)\n",
    "x = MaxPooling1D(pool_size=2)(x)\n",
    "x = Flatten()(x)\n",
    "outputs = Dense(1, activation='sigmoid')(x)\n",
    "model2 = tf.keras.Model(sequence_input, outputs)\n",
    "\n",
    "\n",
    "model2.compile(optimizer=Adam(learning_rate=1e-3), loss='binary_crossentropy', metrics=['accuracy'])\n",
    "ReduceLROnPlateau = ReduceLROnPlateau(factor=0.1, min_lr = 0.01, monitor = 'val_loss', verbose = 1)\n",
    "\n",
    "print(\"Num GPUs Available: \", len(tf.config.list_physical_devices('GPU')))"
   ]
  },
  {
   "cell_type": "code",
   "execution_count": 48,
   "id": "signed-freight",
   "metadata": {},
   "outputs": [
    {
     "name": "stdout",
     "output_type": "stream",
     "text": [
      "Epoch 1/10\n",
      "2489/2489 [==============================] - 460s 185ms/step - loss: 0.5215 - accuracy: 0.7389 - val_loss: 0.4899 - val_accuracy: 0.7637\n",
      "Epoch 2/10\n",
      "2489/2489 [==============================] - 422s 170ms/step - loss: 0.4952 - accuracy: 0.7593 - val_loss: 0.4939 - val_accuracy: 0.7639\n",
      "Epoch 3/10\n",
      "2489/2489 [==============================] - 431s 173ms/step - loss: 0.4883 - accuracy: 0.7639 - val_loss: 0.4880 - val_accuracy: 0.7661\n",
      "Epoch 4/10\n",
      "2489/2489 [==============================] - 462s 186ms/step - loss: 0.4843 - accuracy: 0.7663 - val_loss: 0.4816 - val_accuracy: 0.7725\n",
      "Epoch 5/10\n",
      "2489/2489 [==============================] - 422s 170ms/step - loss: 0.4820 - accuracy: 0.7677 - val_loss: 0.4816 - val_accuracy: 0.7729\n",
      "Epoch 6/10\n",
      "2489/2489 [==============================] - 432s 174ms/step - loss: 0.4800 - accuracy: 0.7693 - val_loss: 0.4793 - val_accuracy: 0.7713\n",
      "Epoch 7/10\n",
      "2489/2489 [==============================] - 354s 142ms/step - loss: 0.4783 - accuracy: 0.7702 - val_loss: 0.4766 - val_accuracy: 0.7747\n",
      "Epoch 8/10\n",
      "2489/2489 [==============================] - 353s 142ms/step - loss: 0.4771 - accuracy: 0.7711 - val_loss: 0.4761 - val_accuracy: 0.7747\n",
      "Epoch 9/10\n",
      "2489/2489 [==============================] - 353s 142ms/step - loss: 0.4762 - accuracy: 0.7716 - val_loss: 0.4806 - val_accuracy: 0.7708\n",
      "Epoch 10/10\n",
      "2489/2489 [==============================] - 353s 142ms/step - loss: 0.4754 - accuracy: 0.7720 - val_loss: 0.4773 - val_accuracy: 0.7734\n"
     ]
    }
   ],
   "source": [
    "history2 = model2.fit(X_train, y_train, batch_size=512, epochs=10, validation_data=(X_test, y_test), callbacks=[ReduceLROnPlateau])"
   ]
  },
  {
   "cell_type": "code",
   "execution_count": 51,
   "id": "affecting-average",
   "metadata": {},
   "outputs": [],
   "source": [
    "model2.save('../models/Agnes_model2.h5')"
   ]
  },
  {
   "cell_type": "code",
   "execution_count": 62,
   "id": "average-fellowship",
   "metadata": {},
   "outputs": [
    {
     "name": "stdout",
     "output_type": "stream",
     "text": [
      "Model: \"functional_1\"\n",
      "_________________________________________________________________\n",
      "Layer (type)                 Output Shape              Param #   \n",
      "=================================================================\n",
      "input_1 (InputLayer)         [(None, 30)]              0         \n",
      "_________________________________________________________________\n",
      "embedding (Embedding)        (None, 30, 300)           87137400  \n",
      "_________________________________________________________________\n",
      "spatial_dropout1d (SpatialDr (None, 30, 300)           0         \n",
      "_________________________________________________________________\n",
      "conv1d (Conv1D)              (None, 26, 32)            48032     \n",
      "_________________________________________________________________\n",
      "dense (Dense)                (None, 26, 256)           8448      \n",
      "_________________________________________________________________\n",
      "dropout (Dropout)            (None, 26, 256)           0         \n",
      "_________________________________________________________________\n",
      "dense_1 (Dense)              (None, 26, 256)           65792     \n",
      "_________________________________________________________________\n",
      "max_pooling1d (MaxPooling1D) (None, 13, 256)           0         \n",
      "_________________________________________________________________\n",
      "flatten (Flatten)            (None, 3328)              0         \n",
      "_________________________________________________________________\n",
      "dense_2 (Dense)              (None, 1)                 3329      \n",
      "=================================================================\n",
      "Total params: 87,263,001\n",
      "Trainable params: 125,601\n",
      "Non-trainable params: 87,137,400\n",
      "_________________________________________________________________\n"
     ]
    }
   ],
   "source": [
    "load_model2 = tf.keras.models.load_model('../models/Agnes_model2.h5')\n",
    "\n",
    "# Check its architecture\n",
    "load_model2.summary()"
   ]
  },
  {
   "cell_type": "code",
   "execution_count": 57,
   "id": "approved-regular",
   "metadata": {},
   "outputs": [
    {
     "data": {
      "text/plain": [
       "Text(0.5, 0, 'epoch')"
      ]
     },
     "execution_count": 57,
     "metadata": {},
     "output_type": "execute_result"
    },
    {
     "data": {
      "image/png": "[encoded data removed]",
      "text/plain": [
       "<Figure size 432x288 with 2 Axes>"
      ]
     },
     "metadata": {
      "needs_background": "light"
     },
     "output_type": "display_data"
    }
   ],
   "source": [
    "plt1, (plt2, plt3) = plt.subplots(2,1)\n",
    "plt2.plot(history2.history['accuracy'], c= 'blue')\n",
    "plt2.plot(history2.history['val_accuracy'], c='red')\n",
    "plt2.set_title('model accuracy')\n",
    "plt2.set_ylabel('accuracy')\n",
    "plt2.set_xlabel('epoch')\n",
    "plt2.legend(['Agnes_train', 'Agnes_val'], loc='upper left')\n",
    "\n",
    "plt3.plot(history2.history['loss'], c='blue')\n",
    "plt3.plot(history2.history['val_loss'], c='red')\n",
    "plt3.set_title('model loss')\n",
    "plt3.set_ylabel('loss')\n",
    "plt3.set_xlabel('epoch')"
   ]
  },
  {
   "cell_type": "code",
   "execution_count": 59,
   "id": "fancy-incident",
   "metadata": {},
   "outputs": [
    {
     "name": "stdout",
     "output_type": "stream",
     "text": [
      "32/32 [==============================] - 20s 632ms/step\n"
     ]
    }
   ],
   "source": [
    "def decode_labels(score):\n",
    "    return \"Positive\" if score > 0.5 else \"Negative\"\n",
    "\n",
    "\n",
    "scores = model2.predict(X_test, verbose=1, batch_size=10000)\n",
    "y_pred = [decode_labels(score) for score in scores]"
   ]
  },
  {
   "cell_type": "markdown",
   "id": "listed-fairy",
   "metadata": {},
   "source": [
    "#### Confusion Matrix"
   ]
  },
  {
   "cell_type": "code",
   "execution_count": 60,
   "id": "handmade-intention",
   "metadata": {},
   "outputs": [
    {
     "name": "stdout",
     "output_type": "stream",
     "text": [
      "[[115824  43669]\n",
      " [ 28499 130474]]\n"
     ]
    },
    {
     "data": {
      "text/plain": [
       "<matplotlib.axes._subplots.AxesSubplot at 0x2e76f14cb80>"
      ]
     },
     "execution_count": 60,
     "metadata": {},
     "output_type": "execute_result"
    },
    {
     "data": {
      "image/png": "[encoded data removed]",
      "text/plain": [
       "<Figure size 432x288 with 2 Axes>"
      ]
     },
     "metadata": {
      "needs_background": "light"
     },
     "output_type": "display_data"
    }
   ],
   "source": [
    "from sklearn.linear_model import LogisticRegression\n",
    "from sklearn.metrics import confusion_matrix, classification_report, accuracy_score\n",
    "import seaborn as sns\n",
    "\n",
    "#Get the confusion matrix\n",
    "cf_matrix = confusion_matrix(test_data.label.to_list(), y_pred)\n",
    "print(cf_matrix)\n",
    "\n",
    "\n",
    "#sns.heatmap(cf_matrix, annot=True)\n",
    "#sns.heatmap(cf_matrix/np.sum(cf_matrix), annot=True, fmt='.2%', cmap='Blues')\n",
    "labels = ['True Neg','False Pos','False Neg','True Pos']\n",
    "labels = np.asarray(labels).reshape(2,2)\n",
    "#sns.heatmap(cf_matrix, annot=labels, fmt='', cmap='Blues')\n",
    "group_names = ['True Neg','False Pos','False Neg','True Pos']\n",
    "group_counts = [\"{0:0.0f}\".format(value) for value in\n",
    "                cf_matrix.flatten()]\n",
    "group_percentages = [\"{0:.2%}\".format(value) for value in\n",
    "                     cf_matrix.flatten()/np.sum(cf_matrix)]\n",
    "labels = [f\"{v1}\\n{v2}\\n{v3}\" for v1, v2, v3 in\n",
    "          zip(group_names,group_counts,group_percentages)]\n",
    "labels = np.asarray(labels).reshape(2,2)\n",
    "sns.heatmap(cf_matrix, annot=labels, fmt='', cmap='Blues')"
   ]
  },
  {
   "cell_type": "code",
   "execution_count": 61,
   "id": "fifteen-rogers",
   "metadata": {},
   "outputs": [
    {
     "name": "stdout",
     "output_type": "stream",
     "text": [
      "              precision    recall  f1-score   support\n",
      "\n",
      "    Negative       0.80      0.73      0.76    159493\n",
      "    Positive       0.75      0.82      0.78    158973\n",
      "\n",
      "    accuracy                           0.77    318466\n",
      "   macro avg       0.78      0.77      0.77    318466\n",
      "weighted avg       0.78      0.77      0.77    318466\n",
      "\n"
     ]
    }
   ],
   "source": [
    "print(classification_report(list(test_data.label), y_pred))"
   ]
  },
  {
   "cell_type": "code",
   "execution_count": 63,
   "id": "balanced-liberia",
   "metadata": {},
   "outputs": [],
   "source": [
    "from sklearn.metrics import roc_curve\n",
    "y_pred_Agnes1 = load_model.predict(X_test).ravel()\n",
    "fpr_Agnes1, tpr_Agnes1, thresholds_Agnes1 = roc_curve(y_test, y_pred_Agnes1)\n",
    "y_pred_Agnes2 = load_model2.predict(X_test).ravel()\n",
    "fpr_Agnes2, tpr_Agnes2, thresholds_Agnes2 = roc_curve(y_test, y_pred_Agnes2)"
   ]
  },
  {
   "cell_type": "code",
   "execution_count": 64,
   "id": "vulnerable-cleveland",
   "metadata": {},
   "outputs": [],
   "source": [
    "#AUC calculation\n",
    "from sklearn.metrics import auc\n",
    "auc_Agnes1 = auc(fpr_Agnes1, tpr_Agnes1)\n",
    "auc_Agnes2 = auc(fpr_Agnes2, tpr_Agnes2)"
   ]
  },
  {
   "cell_type": "code",
   "execution_count": 66,
   "id": "varying-guinea",
   "metadata": {},
   "outputs": [
    {
     "data": {
      "image/png": "[encoded data removed]",
      "text/plain": [
       "<Figure size 432x288 with 1 Axes>"
      ]
     },
     "metadata": {
      "needs_background": "light"
     },
     "output_type": "display_data"
    }
   ],
   "source": [
    "plt.figure(1)\n",
    "plt.plot([0, 1], [0, 1], 'k--')\n",
    "plt.plot(fpr_Agnes1, tpr_Agnes1, label='Agnes-1 (AUC-area-1 = {:.3f})'.format(auc_Agnes1))\n",
    "plt.plot(fpr_Agnes2, tpr_Agnes2, label='Agnes-2 (AUC-area-1 = {:.3f})'.format(auc_Agnes2))\n",
    "plt.xlabel('False positive rate')\n",
    "plt.ylabel('True positive rate')\n",
    "plt.title('ROC curve')\n",
    "plt.legend(loc='best')\n",
    "plt.show()"
   ]
  },
  {
   "cell_type": "markdown",
   "id": "plastic-inflation",
   "metadata": {},
   "source": [
    "### Entropy and Information Gain"
   ]
  },
  {
   "cell_type": "code",
   "execution_count": 69,
   "id": "crucial-breeding",
   "metadata": {},
   "outputs": [],
   "source": [
    "from scipy.stats import entropy\n",
    "from math import log, e\n",
    "def entropy(labels, base=None):\n",
    "    \"\"\" Computes entropy of label distribution. \"\"\"\n",
    "\n",
    "    n_labels = len(labels)\n",
    "\n",
    "    if n_labels <= 1:\n",
    "        return 0\n",
    "\n",
    "    value,counts = np.unique(labels, return_counts=True)\n",
    "    probs = counts / n_labels\n",
    "    n_classes = np.count_nonzero(probs)\n",
    "\n",
    "    if n_classes <= 1:\n",
    "        return 0\n",
    "\n",
    "    ent = 0.\n",
    "\n",
    "    # Compute entropy\n",
    "    base = e if base is None else base\n",
    "    for i in probs:\n",
    "        ent -= i * log(i, base)\n",
    "\n",
    "    return ent"
   ]
  },
  {
   "cell_type": "code",
   "execution_count": 70,
   "id": "egyptian-brunswick",
   "metadata": {},
   "outputs": [],
   "source": [
    "ent_df = entropy(df)"
   ]
  },
  {
   "cell_type": "code",
   "execution_count": 71,
   "id": "deadly-tragedy",
   "metadata": {},
   "outputs": [
    {
     "data": {
      "text/plain": [
       "14.73368002815221"
      ]
     },
     "execution_count": 71,
     "metadata": {},
     "output_type": "execute_result"
    }
   ],
   "source": [
    "ent_df"
   ]
  },
  {
   "cell_type": "code",
   "execution_count": 80,
   "id": "facial-privacy",
   "metadata": {},
   "outputs": [],
   "source": [
    "df_f = pd.read_csv('../data/training.1600000.processed.noemoticon.csv', header=None, encoding='latin')\n",
    "df_f.columns = ['label', 'id', 'date', 'query', 'user', 'tweet']"
   ]
  },
  {
   "cell_type": "code",
   "execution_count": 76,
   "id": "neither-native",
   "metadata": {},
   "outputs": [],
   "source": [
    "# Data reduction\n",
    "df_f =  df_f.drop(['id'], axis=1)"
   ]
  },
  {
   "cell_type": "code",
   "execution_count": 81,
   "id": "massive-study",
   "metadata": {},
   "outputs": [],
   "source": [
    "labels_dict = {0:'Negative', 2:'Neutral', 4:'Positive'}\n",
    "\n",
    "def convert_labels(label):\n",
    "    return labels_dict[label]\n",
    "\n",
    "df_f.label = df_f.label.apply(lambda x: convert_labels(x))"
   ]
  },
  {
   "cell_type": "code",
   "execution_count": 85,
   "id": "recorded-ranking",
   "metadata": {},
   "outputs": [
    {
     "data": {
      "text/plain": [
       "41.08269441306875"
      ]
     },
     "execution_count": 85,
     "metadata": {},
     "output_type": "execute_result"
    }
   ],
   "source": [
    "ent_df_first = entropy(df_f)\n",
    "ent_df_first"
   ]
  },
  {
   "cell_type": "code",
   "execution_count": null,
   "id": "endless-dispatch",
   "metadata": {},
   "outputs": [],
   "source": []
  }
 ],
 "metadata": {
  "kernelspec": {
   "display_name": "Python 3",
   "language": "python",
   "name": "python3"
  },
  "language_info": {
   "codemirror_mode": {
    "name": "ipython",
    "version": 3
   },
   "file_extension": ".py",
   "mimetype": "text/x-python",
   "name": "python",
   "nbconvert_exporter": "python",
   "pygments_lexer": "ipython3",
   "version": "3.8.6"
  }
 },
 "nbformat": 4,
 "nbformat_minor": 5
}
